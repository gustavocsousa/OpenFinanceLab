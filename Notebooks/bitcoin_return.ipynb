{
 "cells": [
  {
   "cell_type": "markdown",
   "metadata": {},
   "source": [
    "# Como usar o Bitcoin numa carteira conservadora\n",
    "\n",
    "O Bitcoin desde seu surgimento é motivo de várias controvérsias no mercado financeiro. Apesar de já ser levado a sério por muitas empresas e gestores no exterior, é ainda motivo de confusão no Brasil. Não querendo entrar no debate filosófico neste momento de onde vem o valor do Bitcoin, mas fazendo apenas uma análise quantitativa, será que vale a pena investir em Bitcoin?\n",
    "\n",
    "![Volatilidade do Bitcoin](img/bitcoin_vol.png)\n",
    "\n",
    "Já é amplamente conhecido que a volatilidade do Bitcoin é muito alta, mas o que todo gestor deveria se perguntar é qual é a retorno por unidade de volatilidade, ou seja, o índice Sharpe. Surpreendente para os descrentes, o Bitcoin hoje tem o maior Sharpe entre vários grupos de ativos como ações dos EUA, bonds, ouro, petróleo e moedas de países emergentes.\n",
    "\n",
    "![Sharpe do Bitcoin](img/bitcoin_sharpe.png)\n",
    "\n",
    "Mas como podemos aproveitar desse retorno sem aumentar muito a risco da carteira?\n",
    "Vamos fazer um teste arriscar 2% do portfólio, enquanto todo o resto concentramos em Tesouro Selic?\n",
    "(Para simplificar, usei os dados do CDI da [B3](http://www.b3.com.br/pt_br/market-data-e-indices/indices/indices-de-segmentos-e-setoriais/serie-historica-do-di.htm), já que são muito próximos)"
   ]
  },
  {
   "cell_type": "markdown",
   "metadata": {},
   "source": [
    "## Pegando os dados\n",
    "\n",
    "Essas são as bibliotecas que vou usar"
   ]
  },
  {
   "cell_type": "code",
   "execution_count": 9,
   "metadata": {},
   "outputs": [],
   "source": [
    "%matplotlib notebook"
   ]
  },
  {
   "cell_type": "code",
   "execution_count": 10,
   "metadata": {},
   "outputs": [
    {
     "name": "stdout",
     "output_type": "stream",
     "text": [
      "The autoreload extension is already loaded. To reload it, use:\n",
      "  %reload_ext autoreload\n"
     ]
    }
   ],
   "source": [
    "%load_ext autoreload\n",
    "%autoreload 2\n",
    "%matplotlib inline"
   ]
  },
  {
   "cell_type": "code",
   "execution_count": 11,
   "metadata": {},
   "outputs": [],
   "source": [
    "import pandas as pd\n",
    "import numpy as np\n",
    "from functools import reduce\n",
    "import datetime\n",
    "from cryptodata import download_mercadobtc\n",
    "import matplotlib.pyplot as plt"
   ]
  },
  {
   "cell_type": "code",
   "execution_count": 12,
   "metadata": {},
   "outputs": [],
   "source": [
    "from IPython.display import clear_output, display"
   ]
  },
  {
   "cell_type": "markdown",
   "metadata": {},
   "source": [
    "### Bitcoin"
   ]
  },
  {
   "cell_type": "markdown",
   "metadata": {},
   "source": [
    "O código abaixo já salva um arquivo csv para importarmos no pandas em seguida"
   ]
  },
  {
   "cell_type": "code",
   "execution_count": null,
   "metadata": {},
   "outputs": [],
   "source": [
    "download_mercadobtc.download_btc_from_mbtc()"
   ]
  },
  {
   "cell_type": "code",
   "execution_count": 13,
   "metadata": {},
   "outputs": [],
   "source": [
    "btc = pd.read_csv('cryptodata/btcbrl.csv', parse_dates=['date'])[::-1].set_index('date')"
   ]
  },
  {
   "cell_type": "markdown",
   "metadata": {},
   "source": [
    "Vamos calcular o retorno diário par facilitar os cálculos mais para frente"
   ]
  },
  {
   "cell_type": "code",
   "execution_count": 14,
   "metadata": {},
   "outputs": [],
   "source": [
    "btc[\"btc_daily_return\"] = btc[\"closing\"] / btc[\"closing\"].shift(1)"
   ]
  },
  {
   "cell_type": "markdown",
   "metadata": {},
   "source": [
    "Vamos ver como está o arquivo e ver se não tem nada errado"
   ]
  },
  {
   "cell_type": "code",
   "execution_count": 15,
   "metadata": {},
   "outputs": [
    {
     "data": {
      "text/html": [
       "<div>\n",
       "<style scoped>\n",
       "    .dataframe tbody tr th:only-of-type {\n",
       "        vertical-align: middle;\n",
       "    }\n",
       "\n",
       "    .dataframe tbody tr th {\n",
       "        vertical-align: top;\n",
       "    }\n",
       "\n",
       "    .dataframe thead th {\n",
       "        text-align: right;\n",
       "    }\n",
       "</style>\n",
       "<table border=\"1\" class=\"dataframe\">\n",
       "  <thead>\n",
       "    <tr style=\"text-align: right;\">\n",
       "      <th></th>\n",
       "      <th>opening</th>\n",
       "      <th>closing</th>\n",
       "      <th>lowest</th>\n",
       "      <th>highest</th>\n",
       "      <th>volume</th>\n",
       "      <th>quantity</th>\n",
       "      <th>amount</th>\n",
       "      <th>avg_price</th>\n",
       "      <th>btc_daily_return</th>\n",
       "    </tr>\n",
       "    <tr>\n",
       "      <th>date</th>\n",
       "      <th></th>\n",
       "      <th></th>\n",
       "      <th></th>\n",
       "      <th></th>\n",
       "      <th></th>\n",
       "      <th></th>\n",
       "      <th></th>\n",
       "      <th></th>\n",
       "      <th></th>\n",
       "    </tr>\n",
       "  </thead>\n",
       "  <tbody>\n",
       "    <tr>\n",
       "      <th>2013-06-12</th>\n",
       "      <td>249.00</td>\n",
       "      <td>265.00</td>\n",
       "      <td>249.00</td>\n",
       "      <td>275.00</td>\n",
       "      <td>2799.690778</td>\n",
       "      <td>10.916965</td>\n",
       "      <td>11</td>\n",
       "      <td>256.453225</td>\n",
       "      <td>NaN</td>\n",
       "    </tr>\n",
       "    <tr>\n",
       "      <th>2013-06-13</th>\n",
       "      <td>265.00</td>\n",
       "      <td>269.00</td>\n",
       "      <td>259.00</td>\n",
       "      <td>269.00</td>\n",
       "      <td>2830.406722</td>\n",
       "      <td>10.624724</td>\n",
       "      <td>16</td>\n",
       "      <td>266.398141</td>\n",
       "      <td>1.015094</td>\n",
       "    </tr>\n",
       "    <tr>\n",
       "      <th>2013-06-14</th>\n",
       "      <td>267.00</td>\n",
       "      <td>250.00</td>\n",
       "      <td>245.00</td>\n",
       "      <td>268.00</td>\n",
       "      <td>8694.710569</td>\n",
       "      <td>34.040328</td>\n",
       "      <td>35</td>\n",
       "      <td>255.423818</td>\n",
       "      <td>0.929368</td>\n",
       "    </tr>\n",
       "    <tr>\n",
       "      <th>2013-06-15</th>\n",
       "      <td>250.00</td>\n",
       "      <td>246.01</td>\n",
       "      <td>246.01</td>\n",
       "      <td>259.99</td>\n",
       "      <td>4481.405612</td>\n",
       "      <td>17.445940</td>\n",
       "      <td>8</td>\n",
       "      <td>256.873845</td>\n",
       "      <td>0.984040</td>\n",
       "    </tr>\n",
       "    <tr>\n",
       "      <th>2013-06-16</th>\n",
       "      <td>246.01</td>\n",
       "      <td>252.00</td>\n",
       "      <td>246.01</td>\n",
       "      <td>257.43</td>\n",
       "      <td>427.690102</td>\n",
       "      <td>1.669200</td>\n",
       "      <td>14</td>\n",
       "      <td>256.224600</td>\n",
       "      <td>1.024349</td>\n",
       "    </tr>\n",
       "  </tbody>\n",
       "</table>\n",
       "</div>"
      ],
      "text/plain": [
       "            opening  closing  lowest  highest       volume   quantity  amount  \\\n",
       "date                                                                            \n",
       "2013-06-12   249.00   265.00  249.00   275.00  2799.690778  10.916965      11   \n",
       "2013-06-13   265.00   269.00  259.00   269.00  2830.406722  10.624724      16   \n",
       "2013-06-14   267.00   250.00  245.00   268.00  8694.710569  34.040328      35   \n",
       "2013-06-15   250.00   246.01  246.01   259.99  4481.405612  17.445940       8   \n",
       "2013-06-16   246.01   252.00  246.01   257.43   427.690102   1.669200      14   \n",
       "\n",
       "             avg_price  btc_daily_return  \n",
       "date                                      \n",
       "2013-06-12  256.453225               NaN  \n",
       "2013-06-13  266.398141          1.015094  \n",
       "2013-06-14  255.423818          0.929368  \n",
       "2013-06-15  256.873845          0.984040  \n",
       "2013-06-16  256.224600          1.024349  "
      ]
     },
     "execution_count": 15,
     "metadata": {},
     "output_type": "execute_result"
    }
   ],
   "source": [
    "btc.head()"
   ]
  },
  {
   "cell_type": "code",
   "execution_count": 16,
   "metadata": {},
   "outputs": [
    {
     "data": {
      "text/html": [
       "<div>\n",
       "<style scoped>\n",
       "    .dataframe tbody tr th:only-of-type {\n",
       "        vertical-align: middle;\n",
       "    }\n",
       "\n",
       "    .dataframe tbody tr th {\n",
       "        vertical-align: top;\n",
       "    }\n",
       "\n",
       "    .dataframe thead th {\n",
       "        text-align: right;\n",
       "    }\n",
       "</style>\n",
       "<table border=\"1\" class=\"dataframe\">\n",
       "  <thead>\n",
       "    <tr style=\"text-align: right;\">\n",
       "      <th></th>\n",
       "      <th>opening</th>\n",
       "      <th>closing</th>\n",
       "      <th>lowest</th>\n",
       "      <th>highest</th>\n",
       "      <th>volume</th>\n",
       "      <th>quantity</th>\n",
       "      <th>amount</th>\n",
       "      <th>avg_price</th>\n",
       "      <th>btc_daily_return</th>\n",
       "    </tr>\n",
       "    <tr>\n",
       "      <th>date</th>\n",
       "      <th></th>\n",
       "      <th></th>\n",
       "      <th></th>\n",
       "      <th></th>\n",
       "      <th></th>\n",
       "      <th></th>\n",
       "      <th></th>\n",
       "      <th></th>\n",
       "      <th></th>\n",
       "    </tr>\n",
       "  </thead>\n",
       "  <tbody>\n",
       "    <tr>\n",
       "      <th>2019-07-07</th>\n",
       "      <td>43301.12000</td>\n",
       "      <td>43701.00000</td>\n",
       "      <td>43000.0</td>\n",
       "      <td>43990.00</td>\n",
       "      <td>3.302460e+06</td>\n",
       "      <td>75.654598</td>\n",
       "      <td>2868</td>\n",
       "      <td>43651.811237</td>\n",
       "      <td>1.008143</td>\n",
       "    </tr>\n",
       "    <tr>\n",
       "      <th>2019-07-08</th>\n",
       "      <td>43711.00000</td>\n",
       "      <td>47000.00000</td>\n",
       "      <td>43700.0</td>\n",
       "      <td>47602.10</td>\n",
       "      <td>3.813110e+07</td>\n",
       "      <td>837.221189</td>\n",
       "      <td>19888</td>\n",
       "      <td>45544.837677</td>\n",
       "      <td>1.075490</td>\n",
       "    </tr>\n",
       "    <tr>\n",
       "      <th>2019-07-09</th>\n",
       "      <td>47100.00000</td>\n",
       "      <td>48200.97003</td>\n",
       "      <td>46100.0</td>\n",
       "      <td>49000.00</td>\n",
       "      <td>2.937920e+07</td>\n",
       "      <td>618.884554</td>\n",
       "      <td>17168</td>\n",
       "      <td>47471.205905</td>\n",
       "      <td>1.025553</td>\n",
       "    </tr>\n",
       "    <tr>\n",
       "      <th>2019-07-10</th>\n",
       "      <td>48389.93994</td>\n",
       "      <td>45789.99993</td>\n",
       "      <td>44102.0</td>\n",
       "      <td>49800.00</td>\n",
       "      <td>4.607897e+07</td>\n",
       "      <td>978.244737</td>\n",
       "      <td>23162</td>\n",
       "      <td>47103.721927</td>\n",
       "      <td>0.949981</td>\n",
       "    </tr>\n",
       "    <tr>\n",
       "      <th>2019-07-11</th>\n",
       "      <td>45552.06004</td>\n",
       "      <td>43430.00000</td>\n",
       "      <td>42600.0</td>\n",
       "      <td>45899.09</td>\n",
       "      <td>3.301337e+07</td>\n",
       "      <td>743.020634</td>\n",
       "      <td>14956</td>\n",
       "      <td>44431.298555</td>\n",
       "      <td>0.948460</td>\n",
       "    </tr>\n",
       "  </tbody>\n",
       "</table>\n",
       "</div>"
      ],
      "text/plain": [
       "                opening      closing   lowest   highest        volume  \\\n",
       "date                                                                    \n",
       "2019-07-07  43301.12000  43701.00000  43000.0  43990.00  3.302460e+06   \n",
       "2019-07-08  43711.00000  47000.00000  43700.0  47602.10  3.813110e+07   \n",
       "2019-07-09  47100.00000  48200.97003  46100.0  49000.00  2.937920e+07   \n",
       "2019-07-10  48389.93994  45789.99993  44102.0  49800.00  4.607897e+07   \n",
       "2019-07-11  45552.06004  43430.00000  42600.0  45899.09  3.301337e+07   \n",
       "\n",
       "              quantity  amount     avg_price  btc_daily_return  \n",
       "date                                                            \n",
       "2019-07-07   75.654598    2868  43651.811237          1.008143  \n",
       "2019-07-08  837.221189   19888  45544.837677          1.075490  \n",
       "2019-07-09  618.884554   17168  47471.205905          1.025553  \n",
       "2019-07-10  978.244737   23162  47103.721927          0.949981  \n",
       "2019-07-11  743.020634   14956  44431.298555          0.948460  "
      ]
     },
     "execution_count": 16,
     "metadata": {},
     "output_type": "execute_result"
    }
   ],
   "source": [
    "btc.tail()"
   ]
  },
  {
   "cell_type": "markdown",
   "metadata": {},
   "source": [
    "### CDI\n",
    "\n",
    "Esses dados eu peguei direto da página da [B3](http://www.b3.com.br/pt_br/market-data-e-indices/indices/indices-de-segmentos-e-setoriais/serie-historica-do-di.htm)"
   ]
  },
  {
   "cell_type": "code",
   "execution_count": 17,
   "metadata": {},
   "outputs": [],
   "source": [
    "# http://www.b3.com.br/pt_br/market-data-e-indices/indices/indices-de-segmentos-e-setoriais/serie-historica-do-di.htm\n",
    "from datetime import datetime\n",
    "to_datetime = lambda d: datetime.strptime(d, '%d/%m/%Y')\n",
    "cdi = pd.read_csv(\"data/CDI.csv\", converters={'Data': to_datetime}).set_index(\"Data\")"
   ]
  },
  {
   "cell_type": "markdown",
   "metadata": {},
   "source": [
    "Vamos conferir se faz sentido. O fator diário é a valorização diária do CDI, que é o que usaremos."
   ]
  },
  {
   "cell_type": "code",
   "execution_count": 18,
   "metadata": {},
   "outputs": [
    {
     "data": {
      "text/html": [
       "<div>\n",
       "<style scoped>\n",
       "    .dataframe tbody tr th:only-of-type {\n",
       "        vertical-align: middle;\n",
       "    }\n",
       "\n",
       "    .dataframe tbody tr th {\n",
       "        vertical-align: top;\n",
       "    }\n",
       "\n",
       "    .dataframe thead th {\n",
       "        text-align: right;\n",
       "    }\n",
       "</style>\n",
       "<table border=\"1\" class=\"dataframe\">\n",
       "  <thead>\n",
       "    <tr style=\"text-align: right;\">\n",
       "      <th></th>\n",
       "      <th>Nr. Operações</th>\n",
       "      <th>Volume</th>\n",
       "      <th>Média</th>\n",
       "      <th>Fator Diário</th>\n",
       "      <th>Mínima</th>\n",
       "      <th>Máxima</th>\n",
       "      <th>Moda</th>\n",
       "      <th>Dsv Pdr</th>\n",
       "      <th>Taxa SELIC</th>\n",
       "    </tr>\n",
       "    <tr>\n",
       "      <th>Data</th>\n",
       "      <th></th>\n",
       "      <th></th>\n",
       "      <th></th>\n",
       "      <th></th>\n",
       "      <th></th>\n",
       "      <th></th>\n",
       "      <th></th>\n",
       "      <th></th>\n",
       "      <th></th>\n",
       "    </tr>\n",
       "  </thead>\n",
       "  <tbody>\n",
       "    <tr>\n",
       "      <th>2013-06-12</th>\n",
       "      <td>24</td>\n",
       "      <td>2018533.84</td>\n",
       "      <td>7.72</td>\n",
       "      <td>1.000295</td>\n",
       "      <td>7.6</td>\n",
       "      <td>7.75</td>\n",
       "      <td>7.7</td>\n",
       "      <td>0.011091</td>\n",
       "      <td>7.9</td>\n",
       "    </tr>\n",
       "    <tr>\n",
       "      <th>2013-06-13</th>\n",
       "      <td>24</td>\n",
       "      <td>1981604.03</td>\n",
       "      <td>7.72</td>\n",
       "      <td>1.000295</td>\n",
       "      <td>7.6</td>\n",
       "      <td>7.75</td>\n",
       "      <td>7.7</td>\n",
       "      <td>0.011314</td>\n",
       "      <td>7.9</td>\n",
       "    </tr>\n",
       "    <tr>\n",
       "      <th>2013-06-14</th>\n",
       "      <td>25</td>\n",
       "      <td>2039245.26</td>\n",
       "      <td>7.72</td>\n",
       "      <td>1.000295</td>\n",
       "      <td>7.6</td>\n",
       "      <td>7.75</td>\n",
       "      <td>7.7</td>\n",
       "      <td>0.011045</td>\n",
       "      <td>7.9</td>\n",
       "    </tr>\n",
       "    <tr>\n",
       "      <th>2013-06-17</th>\n",
       "      <td>22</td>\n",
       "      <td>1919790.55</td>\n",
       "      <td>7.72</td>\n",
       "      <td>1.000295</td>\n",
       "      <td>7.67</td>\n",
       "      <td>7.75</td>\n",
       "      <td>7.7</td>\n",
       "      <td>0.006708</td>\n",
       "      <td>7.9</td>\n",
       "    </tr>\n",
       "    <tr>\n",
       "      <th>2013-06-18</th>\n",
       "      <td>23</td>\n",
       "      <td>1932724.05</td>\n",
       "      <td>7.72</td>\n",
       "      <td>1.000295</td>\n",
       "      <td>7.67</td>\n",
       "      <td>7.75</td>\n",
       "      <td>7.7</td>\n",
       "      <td>0.007937</td>\n",
       "      <td>7.9</td>\n",
       "    </tr>\n",
       "  </tbody>\n",
       "</table>\n",
       "</div>"
      ],
      "text/plain": [
       "            Nr. Operações      Volume  Média  Fator Diário Mínima Máxima Moda  \\\n",
       "Data                                                                            \n",
       "2013-06-12             24  2018533.84   7.72      1.000295    7.6   7.75  7.7   \n",
       "2013-06-13             24  1981604.03   7.72      1.000295    7.6   7.75  7.7   \n",
       "2013-06-14             25  2039245.26   7.72      1.000295    7.6   7.75  7.7   \n",
       "2013-06-17             22  1919790.55   7.72      1.000295   7.67   7.75  7.7   \n",
       "2013-06-18             23  1932724.05   7.72      1.000295   7.67   7.75  7.7   \n",
       "\n",
       "             Dsv Pdr  Taxa SELIC  \n",
       "Data                              \n",
       "2013-06-12  0.011091         7.9  \n",
       "2013-06-13  0.011314         7.9  \n",
       "2013-06-14  0.011045         7.9  \n",
       "2013-06-17  0.006708         7.9  \n",
       "2013-06-18  0.007937         7.9  "
      ]
     },
     "execution_count": 18,
     "metadata": {},
     "output_type": "execute_result"
    }
   ],
   "source": [
    "cdi.head()"
   ]
  },
  {
   "cell_type": "code",
   "execution_count": 19,
   "metadata": {},
   "outputs": [
    {
     "data": {
      "text/html": [
       "<div>\n",
       "<style scoped>\n",
       "    .dataframe tbody tr th:only-of-type {\n",
       "        vertical-align: middle;\n",
       "    }\n",
       "\n",
       "    .dataframe tbody tr th {\n",
       "        vertical-align: top;\n",
       "    }\n",
       "\n",
       "    .dataframe thead th {\n",
       "        text-align: right;\n",
       "    }\n",
       "</style>\n",
       "<table border=\"1\" class=\"dataframe\">\n",
       "  <thead>\n",
       "    <tr style=\"text-align: right;\">\n",
       "      <th></th>\n",
       "      <th>Nr. Operações</th>\n",
       "      <th>Volume</th>\n",
       "      <th>Média</th>\n",
       "      <th>Fator Diário</th>\n",
       "      <th>Mínima</th>\n",
       "      <th>Máxima</th>\n",
       "      <th>Moda</th>\n",
       "      <th>Dsv Pdr</th>\n",
       "      <th>Taxa SELIC</th>\n",
       "    </tr>\n",
       "    <tr>\n",
       "      <th>Data</th>\n",
       "      <th></th>\n",
       "      <th></th>\n",
       "      <th></th>\n",
       "      <th></th>\n",
       "      <th></th>\n",
       "      <th></th>\n",
       "      <th></th>\n",
       "      <th></th>\n",
       "      <th></th>\n",
       "    </tr>\n",
       "  </thead>\n",
       "  <tbody>\n",
       "    <tr>\n",
       "      <th>2019-07-05</th>\n",
       "      <td>5</td>\n",
       "      <td>3807885.92</td>\n",
       "      <td>6.4</td>\n",
       "      <td>1.000246</td>\n",
       "      <td>-</td>\n",
       "      <td>-</td>\n",
       "      <td>-</td>\n",
       "      <td>-</td>\n",
       "      <td>6.4</td>\n",
       "    </tr>\n",
       "    <tr>\n",
       "      <th>2019-07-08</th>\n",
       "      <td>6</td>\n",
       "      <td>3831979.76</td>\n",
       "      <td>6.4</td>\n",
       "      <td>1.000246</td>\n",
       "      <td>-</td>\n",
       "      <td>-</td>\n",
       "      <td>-</td>\n",
       "      <td>-</td>\n",
       "      <td>6.4</td>\n",
       "    </tr>\n",
       "    <tr>\n",
       "      <th>2019-07-09</th>\n",
       "      <td>7</td>\n",
       "      <td>3819083.94</td>\n",
       "      <td>6.4</td>\n",
       "      <td>1.000246</td>\n",
       "      <td>-</td>\n",
       "      <td>-</td>\n",
       "      <td>-</td>\n",
       "      <td>-</td>\n",
       "      <td>6.4</td>\n",
       "    </tr>\n",
       "    <tr>\n",
       "      <th>2019-07-10</th>\n",
       "      <td>6</td>\n",
       "      <td>3710362.22</td>\n",
       "      <td>6.4</td>\n",
       "      <td>1.000246</td>\n",
       "      <td>-</td>\n",
       "      <td>-</td>\n",
       "      <td>-</td>\n",
       "      <td>-</td>\n",
       "      <td>6.4</td>\n",
       "    </tr>\n",
       "    <tr>\n",
       "      <th>2019-07-11</th>\n",
       "      <td>6</td>\n",
       "      <td>3725916.96</td>\n",
       "      <td>6.4</td>\n",
       "      <td>1.000246</td>\n",
       "      <td>-</td>\n",
       "      <td>-</td>\n",
       "      <td>-</td>\n",
       "      <td>-</td>\n",
       "      <td>6.4</td>\n",
       "    </tr>\n",
       "  </tbody>\n",
       "</table>\n",
       "</div>"
      ],
      "text/plain": [
       "            Nr. Operações      Volume  Média  Fator Diário Mínima Máxima Moda  \\\n",
       "Data                                                                            \n",
       "2019-07-05              5  3807885.92    6.4      1.000246      -      -    -   \n",
       "2019-07-08              6  3831979.76    6.4      1.000246      -      -    -   \n",
       "2019-07-09              7  3819083.94    6.4      1.000246      -      -    -   \n",
       "2019-07-10              6  3710362.22    6.4      1.000246      -      -    -   \n",
       "2019-07-11              6  3725916.96    6.4      1.000246      -      -    -   \n",
       "\n",
       "           Dsv Pdr  Taxa SELIC  \n",
       "Data                            \n",
       "2019-07-05       -         6.4  \n",
       "2019-07-08       -         6.4  \n",
       "2019-07-09       -         6.4  \n",
       "2019-07-10       -         6.4  \n",
       "2019-07-11       -         6.4  "
      ]
     },
     "execution_count": 19,
     "metadata": {},
     "output_type": "execute_result"
    }
   ],
   "source": [
    "cdi.tail()"
   ]
  },
  {
   "cell_type": "code",
   "execution_count": 20,
   "metadata": {},
   "outputs": [
    {
     "name": "stdout",
     "output_type": "stream",
     "text": [
      "A variação do CDI no período foi de : 81.31281797281855 %\n",
      "A variação do BTC no período foi de : 16288.679245283021 %\n"
     ]
    }
   ],
   "source": [
    "print('A variação do CDI no período foi de :', (reduce(lambda x, y: x*y, cdi['Fator Diário']) - 1) * 100, \"%\")\n",
    "print('A variação do BTC no período foi de :', (reduce(lambda x, y: x*y, btc['btc_daily_return'][1:]) - 1) * 100, \"%\")\n",
    "#cdi_return = cdi['Fator Diário'].apply(np.sum, axis=1)"
   ]
  },
  {
   "cell_type": "markdown",
   "metadata": {},
   "source": [
    "#### Retorno acumulado no período"
   ]
  },
  {
   "cell_type": "code",
   "execution_count": 21,
   "metadata": {},
   "outputs": [
    {
     "data": {
      "text/html": [
       "<div>\n",
       "<style scoped>\n",
       "    .dataframe tbody tr th:only-of-type {\n",
       "        vertical-align: middle;\n",
       "    }\n",
       "\n",
       "    .dataframe tbody tr th {\n",
       "        vertical-align: top;\n",
       "    }\n",
       "\n",
       "    .dataframe thead th {\n",
       "        text-align: right;\n",
       "    }\n",
       "</style>\n",
       "<table border=\"1\" class=\"dataframe\">\n",
       "  <thead>\n",
       "    <tr style=\"text-align: right;\">\n",
       "      <th></th>\n",
       "      <th>BTC</th>\n",
       "      <th>CDI</th>\n",
       "    </tr>\n",
       "  </thead>\n",
       "  <tbody>\n",
       "    <tr>\n",
       "      <th>2019-07-07</th>\n",
       "      <td>164.909434</td>\n",
       "      <td>1.811344</td>\n",
       "    </tr>\n",
       "    <tr>\n",
       "      <th>2019-07-08</th>\n",
       "      <td>177.358491</td>\n",
       "      <td>1.811790</td>\n",
       "    </tr>\n",
       "    <tr>\n",
       "      <th>2019-07-09</th>\n",
       "      <td>181.890453</td>\n",
       "      <td>1.812236</td>\n",
       "    </tr>\n",
       "    <tr>\n",
       "      <th>2019-07-10</th>\n",
       "      <td>172.792453</td>\n",
       "      <td>1.812682</td>\n",
       "    </tr>\n",
       "    <tr>\n",
       "      <th>2019-07-11</th>\n",
       "      <td>163.886792</td>\n",
       "      <td>1.813128</td>\n",
       "    </tr>\n",
       "  </tbody>\n",
       "</table>\n",
       "</div>"
      ],
      "text/plain": [
       "                   BTC       CDI\n",
       "2019-07-07  164.909434  1.811344\n",
       "2019-07-08  177.358491  1.811790\n",
       "2019-07-09  181.890453  1.812236\n",
       "2019-07-10  172.792453  1.812682\n",
       "2019-07-11  163.886792  1.813128"
      ]
     },
     "execution_count": 21,
     "metadata": {},
     "output_type": "execute_result"
    }
   ],
   "source": [
    "a = pd.merge(btc['btc_daily_return'], cdi['Fator Diário'], how='outer', left_index=True, right_index=True).fillna(1)\n",
    "a = a.rename(columns={'Fator Diário': 'CDI', 'btc_daily_return': 'BTC'})\n",
    "a.head()\n",
    "a.cumprod().tail()"
   ]
  },
  {
   "cell_type": "code",
   "execution_count": 22,
   "metadata": {},
   "outputs": [
    {
     "data": {
      "text/plain": [
       "<matplotlib.axes._subplots.AxesSubplot at 0x2c3f7687278>"
      ]
     },
     "execution_count": 22,
     "metadata": {},
     "output_type": "execute_result"
    },
    {
     "data": {
      "image/png": "[encoded data removed]",
      "text/plain": [
       "<Figure size 1080x432 with 1 Axes>"
      ]
     },
     "metadata": {
      "needs_background": "light"
     },
     "output_type": "display_data"
    }
   ],
   "source": [
    "a.cumprod().plot(figsize=(15,6), color=['#ff7f0e','#1f77b4'])"
   ]
  },
  {
   "cell_type": "markdown",
   "metadata": {},
   "source": [
    "## Construção de portfólio\n",
    "\n",
    "Mas vamos diminuir esse nosso risco. Não é ideal ter 100% em BTC, pois podemos sofrer muito com a queda.\n",
    "Vamos ver o que acontece se arriscarmos só 2% do patrimônio em BTC."
   ]
  },
  {
   "cell_type": "code",
   "execution_count": 23,
   "metadata": {},
   "outputs": [
    {
     "data": {
      "text/plain": [
       "<matplotlib.axes._subplots.AxesSubplot at 0x2c3f8b23240>"
      ]
     },
     "execution_count": 23,
     "metadata": {},
     "output_type": "execute_result"
    },
    {
     "data": {
      "image/png": "[encoded data removed]",
      "text/plain": [
       "<Figure size 1080x432 with 1 Axes>"
      ]
     },
     "metadata": {
      "needs_background": "light"
     },
     "output_type": "display_data"
    }
   ],
   "source": [
    "perc2 = pd.DataFrame(a['BTC'].cumprod() * 0.02 + a[\"CDI\"].cumprod() * 0.98, columns=[\"2% BTC 98% CDI\"])\n",
    "#perc5 = pd.DataFrame(a['BTC'].cumprod() * 0.05 + a[\"CDI\"].cumprod() * 0.95, columns=[\"5% BTC 95% CDI\"])\n",
    "#perc10 = pd.DataFrame(a['BTC'].cumprod() * 0.10 + a[\"CDI\"].cumprod() * 0.90, columns=[\"10% BTC 90% CDI\"])\n",
    "\n",
    "portfolios = pd.merge(a[\"CDI\"].cumprod(), perc2, how='outer', left_index=True, right_index=True)\n",
    "#portfolios = pd.merge(portfolios, perc5, how='outer', left_index=True, right_index=True)\n",
    "#portfolios = pd.merge(portfolios, perc10, how='outer', left_index=True, right_index=True)\n",
    "portfolios.plot(figsize=(15,6), title=\"Retorno acumulado do portfólio\")"
   ]
  },
  {
   "cell_type": "code",
   "execution_count": 24,
   "metadata": {},
   "outputs": [
    {
     "data": {
      "text/html": [
       "<div>\n",
       "<style scoped>\n",
       "    .dataframe tbody tr th:only-of-type {\n",
       "        vertical-align: middle;\n",
       "    }\n",
       "\n",
       "    .dataframe tbody tr th {\n",
       "        vertical-align: top;\n",
       "    }\n",
       "\n",
       "    .dataframe thead th {\n",
       "        text-align: right;\n",
       "    }\n",
       "</style>\n",
       "<table border=\"1\" class=\"dataframe\">\n",
       "  <thead>\n",
       "    <tr style=\"text-align: right;\">\n",
       "      <th></th>\n",
       "      <th>CDI</th>\n",
       "      <th>2% BTC 98% CDI</th>\n",
       "    </tr>\n",
       "  </thead>\n",
       "  <tbody>\n",
       "    <tr>\n",
       "      <th>2013-06-12</th>\n",
       "      <td>1.000295</td>\n",
       "      <td>1.000289</td>\n",
       "    </tr>\n",
       "    <tr>\n",
       "      <th>2013-06-13</th>\n",
       "      <td>1.000590</td>\n",
       "      <td>1.000880</td>\n",
       "    </tr>\n",
       "    <tr>\n",
       "      <th>2013-06-14</th>\n",
       "      <td>1.000886</td>\n",
       "      <td>0.999736</td>\n",
       "    </tr>\n",
       "    <tr>\n",
       "      <th>2013-06-15</th>\n",
       "      <td>1.000886</td>\n",
       "      <td>0.999435</td>\n",
       "    </tr>\n",
       "    <tr>\n",
       "      <th>2013-06-16</th>\n",
       "      <td>1.000886</td>\n",
       "      <td>0.999887</td>\n",
       "    </tr>\n",
       "  </tbody>\n",
       "</table>\n",
       "</div>"
      ],
      "text/plain": [
       "                 CDI  2% BTC 98% CDI\n",
       "2013-06-12  1.000295        1.000289\n",
       "2013-06-13  1.000590        1.000880\n",
       "2013-06-14  1.000886        0.999736\n",
       "2013-06-15  1.000886        0.999435\n",
       "2013-06-16  1.000886        0.999887"
      ]
     },
     "execution_count": 24,
     "metadata": {},
     "output_type": "execute_result"
    }
   ],
   "source": [
    "portfolios.head()"
   ]
  },
  {
   "cell_type": "code",
   "execution_count": 27,
   "metadata": {},
   "outputs": [
    {
     "data": {
      "text/plain": [
       "<matplotlib.axes._subplots.AxesSubplot at 0x2c3f8a4ca20>"
      ]
     },
     "execution_count": 27,
     "metadata": {},
     "output_type": "execute_result"
    },
    {
     "data": {
      "image/png": "[encoded data removed]",
      "text/plain": [
       "<Figure size 576x432 with 1 Axes>"
      ]
     },
     "metadata": {
      "needs_background": "light"
     },
     "output_type": "display_data"
    }
   ],
   "source": [
    "fig = plt.figure()\n",
    "\n",
    "ann_return = (portfolios.iloc[-1] ** (365 / len(portfolios)) - 1) * 100\n",
    "\n",
    "#plt.bar(list(ann_return.iloc[0].index),ann_return.iloc[0].values, color=['#1f77b4','#ff7f0e'], align='center')\n",
    "\n",
    "\n",
    "ann_return.plot.bar(figsize=(8,6), rot=0, title='Retorno anualizado do portfólio', color=['#1f77b4','#ff7f0e'])"
   ]
  },
  {
   "cell_type": "markdown",
   "metadata": {},
   "source": [
    "Mas nem todo mundo teve a sorte de entrar no início.\n",
    "O que aconteceria se alguém comprasse 2% do patrimônio em BTC num momento aleatório da história e segurasse até hoje?"
   ]
  },
  {
   "cell_type": "code",
   "execution_count": 28,
   "metadata": {},
   "outputs": [],
   "source": [
    "portfolios = pd.merge(a[\"CDI\"].cumprod(), a[\"BTC\"].cumprod(), how='outer', left_index=True, right_index=True)\n",
    "portfolios[\"2% BTC 98% CDI\"] = portfolios[\"CDI\"]\n",
    "portfolios[\"100% CDI\"] = portfolios[\"CDI\"]\n",
    "\n",
    "for i in range(len(portfolios)):\n",
    "    cdi_helper = portfolios[\"CDI\"]/portfolios[\"CDI\"].iloc[i]\n",
    "    btc_helper = portfolios[\"BTC\"]/portfolios[\"BTC\"].iloc[i]\n",
    "    portfolios[\"2% BTC 98% CDI\"].iloc[i] = ((0.98 * (portfolios[\"CDI\"].iloc[-1] / portfolios[\"CDI\"].iloc[i]) \n",
    "                                            + 0.02 * (portfolios[\"BTC\"].iloc[-1] / portfolios[\"BTC\"].iloc[i])) \n",
    "                                            ** ( 365 / (len(portfolios) - i)) - 1) * 100\n",
    "    portfolios[\"100% CDI\"].iloc[i] = ((portfolios[\"CDI\"].iloc[-1] / portfolios[\"CDI\"].iloc[i]) \n",
    "                                      ** ( 365 / (len(portfolios) - i)) - 1) * 100"
   ]
  },
  {
   "cell_type": "markdown",
   "metadata": {},
   "source": [
    "### Retorno anualizado de acordo com a data de entrada \n",
    "\n",
    "Retorno anualizado até 07/07/2019 de acordo com a data de entrada."
   ]
  },
  {
   "cell_type": "code",
   "execution_count": 29,
   "metadata": {},
   "outputs": [
    {
     "data": {
      "text/plain": [
       "<matplotlib.axes._subplots.AxesSubplot at 0x2c3f8ad1ef0>"
      ]
     },
     "execution_count": 29,
     "metadata": {},
     "output_type": "execute_result"
    },
    {
     "data": {
      "image/png": "[encoded data removed]",
      "text/plain": [
       "<Figure size 432x288 with 1 Axes>"
      ]
     },
     "metadata": {
      "needs_background": "light"
     },
     "output_type": "display_data"
    }
   ],
   "source": [
    "portfolios[['100% CDI', '2% BTC 98% CDI']].iloc[:-180].plot()"
   ]
  },
  {
   "cell_type": "code",
   "execution_count": 36,
   "metadata": {},
   "outputs": [
    {
     "name": "stdout",
     "output_type": "stream",
     "text": [
      "Se entrar num ponto aleatório no tempo, ganharia em média 17.09%, que representa 8.44% acima do CDI\n",
      "Se entrar num ponto aleatório no tempo, ganharia em média 191.02% do CDI\n",
      "Se entrar no pior momento da história, teria 5.80% de retorno anualizado\n",
      "Se entrar no melhor momento da história, teria 35.85% de retorno anualizado\n"
     ]
    }
   ],
   "source": [
    "diff = portfolios['2% BTC 98% CDI'].iloc[:-180] - portfolios['100% CDI'].iloc[:-180]\n",
    "print(\"Se entrar num ponto aleatório no tempo, ganharia em média {0:.2f}%, que representa {1:.2f}% acima do CDI\"\n",
    "      .format(portfolios['2% BTC 98% CDI'].iloc[:-180].mean(), diff.mean()))\n",
    "\n",
    "percent = portfolios['2% BTC 98% CDI'] / portfolios['100% CDI'] * 100\n",
    "print(\"Se entrar num ponto aleatório no tempo, ganharia em média {0:.2f}% do CDI\".format(percent.iloc[:-180].mean()))\n",
    "\n",
    "print(\"Se entrar no pior momento da história, teria {0:.2f}% de retorno anualizado\".format(portfolios['2% BTC 98% CDI'].iloc[:-180].min()))\n",
    "print(\"Se entrar no melhor momento da história, teria {0:.2f}% de retorno anualizado\".format(portfolios['2% BTC 98% CDI'].iloc[:-180].max()))"
   ]
  },
  {
   "cell_type": "code",
   "execution_count": 37,
   "metadata": {},
   "outputs": [],
   "source": [
    "from celluloid import Camera"
   ]
  },
  {
   "cell_type": "code",
   "execution_count": 38,
   "metadata": {},
   "outputs": [
    {
     "name": "stdout",
     "output_type": "stream",
     "text": [
      "2120 de 2120\n"
     ]
    },
    {
     "data": {
      "image/png": "[encoded data removed]",
      "text/plain": [
       "<Figure size 432x288 with 1 Axes>"
      ]
     },
     "metadata": {
      "needs_background": "light"
     },
     "output_type": "display_data"
    }
   ],
   "source": [
    "fig, ax = plt.subplots()\n",
    "camera = Camera(fig)\n",
    "\n",
    "p = portfolios[['100% CDI', '2% BTC 98% CDI']]\n",
    "\n",
    "for i in range(len(portfolios) - 100):\n",
    "    clear_output(wait=True)\n",
    "    print(\"{} de {}\".format(i,len(portfolios) - 101))\n",
    "    plt.bar(list(p.iloc[i].index),p.iloc[i].values, color=['#1f77b4','#ff7f0e'], align='center')\n",
    "    plt.text(0.5, 1.01, 'Retorno anualizado de {} a {}'\n",
    "             .format(p.iloc[i].name.strftime(\"%d/%m/%Y\"), p.iloc[-1].name.strftime(\"%d/%m/%Y\")), \n",
    "                     horizontalalignment='center', verticalalignment='bottom', transform=ax.transAxes)\n",
    "    #plt.title('Retorno anualizado de {} a {}'.format(p.iloc[i].name.strftime(\"%d/%m/%Y\"), p.iloc[-1].name.strftime(\"%d/%m/%Y\"))\n",
    "    plt.ylabel('Retorno anualizado (%)')\n",
    "    plt.ylim(0,36)\n",
    "    camera.snap()\n",
    "\n",
    "animation = camera.animate(interval=25, blit=True)\n",
    "plt.show()\n",
    "\n",
    "animation.save('data/portfolio_btc_vs_cdi.mp4')\n",
    "#animation.save('teste.gif', writer = 'imagemagick')"
   ]
  },
  {
   "cell_type": "code",
   "execution_count": null,
   "metadata": {},
   "outputs": [],
   "source": []
  }
 ],
 "metadata": {
  "kernelspec": {
   "display_name": "Python 3",
   "language": "python",
   "name": "python3"
  },
  "language_info": {
   "codemirror_mode": {
    "name": "ipython",
    "version": 3
   },
   "file_extension": ".py",
   "mimetype": "text/x-python",
   "name": "python",
   "nbconvert_exporter": "python",
   "pygments_lexer": "ipython3",
   "version": "3.6.7"
  }
 },
 "nbformat": 4,
 "nbformat_minor": 2
}
