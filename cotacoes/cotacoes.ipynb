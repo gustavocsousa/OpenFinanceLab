{
 "cells": [
  {
   "cell_type": "markdown",
   "metadata": {},
   "source": [
    "O diretório de cotacoes, desenvolvido pelo prof. Geovany Borges, é utilizado para obter os dados da B3 organizados por carteira a partir das séries históricas fornecidas pelo site da B3 de 1986 até o presente.\n",
    "\n",
    "O script atualizar_dados.py, responsável por gerar os dados ajustados de cada carteira. O procedimento leva muito tempo para ser processado. Foi implementada uma modificação neste código para reduzir o tempo de processamento, utilizando processos paralelos com a biblioteca multiprocessing. A otimização foi possível porque o gargalo de desempenho do programa é o uso elevado de cpu e o script, sem aplicação de paralelismo, utiliza apenas uma thread (ou cpu lógica) do sistema.\n",
    "\n",
    "Os trechos modificados do código podem ser vistos abaixo."
   ]
  },
  {
   "cell_type": "code",
   "execution_count": 1,
   "metadata": {},
   "outputs": [],
   "source": [
    "def main():\n",
    "    \n",
    "    import time\n",
    "    use_paralellism = True\n",
    "    if use_paralellism:\n",
    "        import multiprocessing\n",
    "        import psutil\n",
    "        \n",
    "        #...\n",
    "        \n",
    "    if use_paralellism:\n",
    "        cpu_count = psutil.cpu_count(logical=False)\n",
    "        print(\"\\n*** Processo utilizando paralelismo com\", cpu_count, \"processos!\")\n",
    "        lista_codigos = [codigos_da_carteira_b3_acoes_eod[i::cpu_count] for i in range(cpu_count)]\n",
    "        processes = []\n",
    "        for i in range(cpu_count):\n",
    "            processes.append(multiprocessing.Process(target = atualizar_cotacoes_b3_acoes_eod, args = (lista_codigos[i],)))\n",
    "            processes[-1].start()\n",
    "        for i_process in processes:\n",
    "            i_process.join()\n",
    "    else:\n",
    "        atualizar_cotacoes_b3_acoes_eod(codigos_da_carteira_b3_acoes_eod)\n",
    "    \n",
    "    elapsed_time = time.time() - start_time    \n",
    "    print(\"\\n*** Processo concluído em %d minutos e %f segundos!\" %(elapsed_time/60, elapsed_time%60))\n",
    "\n",
    "    return"
   ]
  },
  {
   "cell_type": "markdown",
   "metadata": {},
   "source": [
    "Como é possível notar, é possível escolher se será feito o uso de paralelismo ou não a partir da variável booleana use_paralellism.\n",
    "\n",
    "Caso não seja utilizado paralelismo (use_paralellism = False), o código irá rodar como antes e irá chamar a função atualizar_cotacoes_b3_acoes_eod() com a lista completa codigos_da_carteira_b3_acoes_eod, fazendo o processamento de cada elemento da lista na função de forma sequencial.\n",
    "\n",
    "Caso seja utilizado paralelismo (use_paralellism = True), o código primeiramente irá obter a quantidade de núcleos físicos (cores) do sistema, armazenado na variável cpu_count, que será utilizada para dividir a lista codigos_da_carteira_b3_acoes_eod em uma lista de listas lista_codigos e determinar quantos processos. Esta lista de listas possui um número de listas igual ao número de núcleos físicos cpu_count, sendo que cada lista é uma parte da lista codigos_da_carteira_b3_acoes_eod contendo o número de elementos de codigos_da_carteira_b3_acoes_eod dividido por cpu_count elementos. Também é criada outra lista processes que ira armazenar cada processo rodando paralelamente. Em um loop for é adicionado na lista process cada um dos cpu_count processos, utilizando como argumento um elemento da lista de listas lista_codigos, e então este último processo adicionado é inicializado. Após instanciar e inicializar cada processo paralelo, é necessário fazer a parte principal do programa esperar o término de todos os processos para então prosseguir, o que é feito com o próximo loop for chamando a função join() para cada processo.\n",
    "\n",
    "Com o término do processamento da função atualizar_cotacoes_b3_acoes_eod(), seja de forma sequencial ou paralela, o programa se encerra mostrando quanto tempo levou para ser concluído"
   ]
  },
  {
   "cell_type": "code",
   "execution_count": null,
   "metadata": {},
   "outputs": [],
   "source": []
  }
 ],
 "metadata": {
  "kernelspec": {
   "display_name": "Python 3",
   "language": "python",
   "name": "python3"
  },
  "language_info": {
   "codemirror_mode": {
    "name": "ipython",
    "version": 3
   },
   "file_extension": ".py",
   "mimetype": "text/x-python",
   "name": "python",
   "nbconvert_exporter": "python",
   "pygments_lexer": "ipython3",
   "version": "3.6.7"
  }
 },
 "nbformat": 4,
 "nbformat_minor": 2
}
